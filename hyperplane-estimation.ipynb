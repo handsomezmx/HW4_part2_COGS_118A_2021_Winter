{
 "cells": [
  {
   "cell_type": "markdown",
   "metadata": {},
   "source": [
    "# COGS 118A: Supervised Machine Learning Algorithms\n",
    "## Homework Assignment 4\n",
    "## Question 5: Hyper-plane Estimation Starter Code"
   ]
  },
  {
   "cell_type": "markdown",
   "metadata": {},
   "source": [
    "**Instructions:** This Jupyter notebook contains starter codes for the Hyper-plane Estimation question. Use this notebook as a starting point to code the answers to this question. The skeleton of the functions you need to use is provided, you just need to fill the code where you are instructed to. Then generate a PDF file of the notebook and combine it with the other PDF files of your solution to the homework and submit a **single PDF file** to Gradescope.\n",
    "\n",
    "You will be instructed through a comment in each of the cells below whether you need to just run that cell or add code to it to complete the steps needed to solve the question."
   ]
  },
  {
   "cell_type": "code",
   "execution_count": null,
   "metadata": {
    "ExecuteTime": {
     "end_time": "2020-01-20T01:59:07.529782Z",
     "start_time": "2020-01-20T01:59:07.292333Z"
    }
   },
   "outputs": [],
   "source": [
    "# Importing Important packages (nothing to add to this cell)\n",
    "\n",
    "import numpy as np\n",
    "import matplotlib.pyplot as plt\n",
    "from mpl_toolkits.mplot3d import Axes3D\n",
    "%config InlineBackend.figure_format = 'retina'"
   ]
  },
  {
   "cell_type": "code",
   "execution_count": null,
   "metadata": {
    "ExecuteTime": {
     "end_time": "2020-01-20T02:13:27.290698Z",
     "start_time": "2020-01-20T02:13:27.285224Z"
    }
   },
   "outputs": [],
   "source": [
    "# Loading the data (nothing to add to this cell)\n",
    "\n",
    "X_and_Y = np.load('./hyperplane-estimation.npy')\n",
    "X1 = X_and_Y[:, 0]    # Shape: (900,)\n",
    "X2 = X_and_Y[:, 1]    # Shape: (900,)\n",
    "Y  = X_and_Y[:, 2]    # Shape: (900,)\n",
    "print(X1.shape, X2.shape, Y.shape)"
   ]
  },
  {
   "cell_type": "markdown",
   "metadata": {},
   "source": [
    "### Original Data"
   ]
  },
  {
   "cell_type": "code",
   "execution_count": null,
   "metadata": {
    "ExecuteTime": {
     "end_time": "2020-01-20T02:13:42.489023Z",
     "start_time": "2020-01-20T02:13:41.998077Z"
    }
   },
   "outputs": [],
   "source": [
    "# Visualization of the original datapoints (nothing to add to this cell).\n",
    "\n",
    "def vis(w0, w1, w2):\n",
    "    draw_plane = (w0 is not None) and (w1 is not None) and (w2 is not None)\n",
    "    if draw_plane:\n",
    "        num = 30\n",
    "        X_plane_range = np.linspace(0,10,num)\n",
    "        X_plane_range = np.linspace(0,10,num)\n",
    "        X1_plane, X2_plane = np.meshgrid(X_plane_range, X_plane_range)\n",
    "        Y_plane = w0 + w1 * X1_plane + w2 * X2_plane\n",
    "\n",
    "    fig = plt.figure(figsize = (7, 7))\n",
    "    ax = Axes3D(fig, elev = 20, azim = 170)\n",
    "    ax.scatter(X1, X2, Y)\n",
    "    if draw_plane:\n",
    "        ax.scatter(X1_plane, X2_plane, Y_plane)\n",
    "    ax.set_xlabel('$x_1$')\n",
    "    ax.set_ylabel('$x_2$')\n",
    "    ax.set_zlabel('$y$')\n",
    "    plt.show()\n",
    "    \n",
    "vis(None, None, None)"
   ]
  },
  {
   "cell_type": "markdown",
   "metadata": {},
   "source": [
    "### Hyperplane Estimation Using the Closed Form Solution"
   ]
  },
  {
   "cell_type": "markdown",
   "metadata": {},
   "source": [
    "Assume data points are represented as matrices $X$ and $Y$, please use the closed form solution to calculate the parameters $W$.\n",
    "\n",
    "**Hint**: You may refer to HW3 Q4."
   ]
  },
  {
   "cell_type": "code",
   "execution_count": null,
   "metadata": {
    "ExecuteTime": {
     "end_time": "2020-01-20T02:15:06.677615Z",
     "start_time": "2020-01-20T02:15:06.668143Z"
    }
   },
   "outputs": [],
   "source": [
    "# Estimating W, which defines the hyperplane (you need to add code to this cell as indicated below).\n",
    "# y = w0 + w1*x1 + w2*x2\n",
    "\n",
    "X = np.matrix(np.hstack((np.ones((len(X1),1)),\n",
    "                         X1.reshape(-1,1),\n",
    "                         X2.reshape(-1,1))))  # X contains 1, X1 and X2.\n",
    "Y = Y\n",
    "# Compute W using the closed form solution.\n",
    "W = ####### Write your code here #######  Hint: In the form of X and Y.\n",
    "\n",
    "w0, w1, w2 = np.array(W).reshape(-1)\n",
    "print('y = {:.2f} + {:.2f}*x1 + {:.2f}*x2'.format(w0, w1, w2))"
   ]
  },
  {
   "cell_type": "code",
   "execution_count": null,
   "metadata": {
    "ExecuteTime": {
     "end_time": "2020-01-20T02:15:07.384557Z",
     "start_time": "2020-01-20T02:15:06.938232Z"
    }
   },
   "outputs": [],
   "source": [
    "# Visualization of the original datapoints and estimated plane (nothing to add to this cell).\n",
    "\n",
    "vis(w0, w1, w2)"
   ]
  },
  {
   "cell_type": "markdown",
   "metadata": {},
   "source": [
    "### Hyperplane Estimation Using Gradient Descent"
   ]
  },
  {
   "cell_type": "markdown",
   "metadata": {},
   "source": [
    "In this problem, we would like to use the gradient descent to calculate the parameters $W$ for the hyperplane.\n",
    "If we have an error function (a.k.a objective function or loss function), then a typical gradient descent algorithm contains the following steps:\n",
    "\n",
    "**Step 1**. Initialize the parameters W.\n",
    "\n",
    "for i = 1 to #iterations:\n",
    "\n",
    "- **Step 2**. Compute the gradient $\\nabla \\mathcal{L}(W) = \\frac{\\partial \\mathcal{L}(W)}{\\partial W}$.\n",
    "\n",
    "- **Step 3**. Update the parameters $W \\leftarrow \\mathcal{L}(W) = W - \\eta \\frac{\\partial \\mathcal{L}(W)}{\\partial W}$ where $\\eta$ is the learning rate."
   ]
  },
  {
   "cell_type": "code",
   "execution_count": null,
   "metadata": {
    "ExecuteTime": {
     "end_time": "2020-01-20T02:31:45.935180Z",
     "start_time": "2020-01-20T02:31:45.930559Z"
    }
   },
   "outputs": [],
   "source": [
    "# Gradient of L(W) with respect to W (you need to add code to this cell as indicated below).\n",
    "\n",
    "def grad_L_W(X, Y, W):\n",
    "    return ####### Write your code here ####### Hint: implement Step 2 above!"
   ]
  },
  {
   "cell_type": "code",
   "execution_count": null,
   "metadata": {
    "ExecuteTime": {
     "end_time": "2020-01-20T02:31:46.496668Z",
     "start_time": "2020-01-20T02:31:46.486615Z"
    }
   },
   "outputs": [],
   "source": [
    "# Estimating W, which defines the hyperplane (you need to add code to this cell as indicated below).\n",
    "# y = w0 + w1*x1 + w2*x2\n",
    "\n",
    "# Some settings.\n",
    "Y = Y.reshape(-1, 1)\n",
    "print(X.shape, Y.shape, W.shape)\n",
    "iterations    = 20000\n",
    "learning_rate = 0.000001\n",
    "\n",
    "# Gradient descent algorithm.\n",
    "# Step 1. Initialize the parameters W.\n",
    "W = np.matrix(np.zeros((3,1)))\n",
    "\n",
    "for i in range(iterations):\n",
    "    # Step 2. Calculate the gradient of L(W) w.r.t. W. \n",
    "    grad = grad_L_W(X, Y, W)\n",
    "    \n",
    "    # Step 3. Update parameters W.\n",
    "    W = ####### Write your code here #######  Hint: Use grad, W, learning_rate to implement Step 3 above.\n",
    "    \n",
    "w0, w1, w2 = np.array(W).reshape(-1)\n",
    "print('y = {:.2f} + {:.2f}*x1 + {:.2f}*x2'.format(w0, w1, w2))"
   ]
  },
  {
   "cell_type": "code",
   "execution_count": null,
   "metadata": {
    "ExecuteTime": {
     "end_time": "2020-01-20T02:24:19.650369Z",
     "start_time": "2020-01-20T02:24:19.229525Z"
    },
    "scrolled": false
   },
   "outputs": [],
   "source": [
    "# of the original datapoints and estimated plane (nothing to add to this cell).\n",
    "\n",
    "vis(w0, w1, w2)"
   ]
  }
 ],
 "metadata": {
  "kernelspec": {
   "display_name": "Python 3",
   "language": "python",
   "name": "python3"
  },
  "language_info": {
   "codemirror_mode": {
    "name": "ipython",
    "version": 3
   },
   "file_extension": ".py",
   "mimetype": "text/x-python",
   "name": "python",
   "nbconvert_exporter": "python",
   "pygments_lexer": "ipython3",
   "version": "3.7.4"
  },
  "toc": {
   "base_numbering": 1,
   "nav_menu": {
    "height": "84px",
    "width": "252px"
   },
   "number_sections": true,
   "sideBar": true,
   "skip_h1_title": false,
   "title_cell": "Table of Contents",
   "title_sidebar": "Contents",
   "toc_cell": false,
   "toc_position": {},
   "toc_section_display": "block",
   "toc_window_display": false
  },
  "varInspector": {
   "cols": {
    "lenName": 16,
    "lenType": 16,
    "lenVar": 40
   },
   "kernels_config": {
    "python": {
     "delete_cmd_postfix": "",
     "delete_cmd_prefix": "del ",
     "library": "var_list.py",
     "varRefreshCmd": "print(var_dic_list())"
    },
    "r": {
     "delete_cmd_postfix": ") ",
     "delete_cmd_prefix": "rm(",
     "library": "var_list.r",
     "varRefreshCmd": "cat(var_dic_list()) "
    }
   },
   "types_to_exclude": [
    "module",
    "function",
    "builtin_function_or_method",
    "instance",
    "_Feature"
   ],
   "window_display": false
  }
 },
 "nbformat": 4,
 "nbformat_minor": 2
}
